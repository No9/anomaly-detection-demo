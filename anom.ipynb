{
 "cells": [
  {
   "cell_type": "code",
   "execution_count": null,
   "id": "5d75ea67-97bc-4720-b128-6c80bbd5595f",
   "metadata": {},
   "outputs": [],
   "source": [
    "!pip install --upgrade pip\n",
    "!pip install ibm-cos-sdk\n",
    "!pip install matplotlib\n",
    "!pip install pandas\n",
    "!pip install numpy\n",
    "!pip install scikit-learn\n"
   ]
  },
  {
   "cell_type": "code",
   "execution_count": null,
   "id": "f7232be5-96ab-417a-a84f-f9e6ce86b7f8",
   "metadata": {},
   "outputs": [],
   "source": [
    "from os import listdir\n",
    "from os.path import join\n",
    "import numpy as np\n",
    "import pandas as pd\n",
    "import matplotlib.pyplot as plt\n",
    "import random\n",
    "from scipy import stats\n",
    "from sklearn.decomposition import PCA"
   ]
  },
  {
   "cell_type": "code",
   "execution_count": null,
   "id": "8960d05f-2f1e-4d7c-b1e4-a36e0995796d",
   "metadata": {},
   "outputs": [],
   "source": [
    "# Print versions\n",
    "!python --version\n",
    "print('Numpy ' + np.__version__)\n",
    "print('Pandas ' + pd.__version__)"
   ]
  },
  {
   "cell_type": "code",
   "execution_count": null,
   "id": "a064a168-98a8-4db5-a712-55b65390f3a2",
   "metadata": {},
   "outputs": [],
   "source": [
    "# Enable interactive matplotlib plots\n",
    "#%matplotlib notebook\n",
    "# use this if you are getting Javascript Error: IPython is not defined\n",
    "%matplotlib widget"
   ]
  },
  {
   "cell_type": "code",
   "execution_count": null,
   "id": "7c996037-d2b8-4581-ae36-3007cbae9f54",
   "metadata": {},
   "outputs": [],
   "source": [
    "dataset_path = 'ceiling-fan-dataset'  # Directory where raw accelerometer data is stored\n",
    "normal_op_list = ['fan_0_low-deploy']\n",
    "anomaly_op_list = ['fan_0_med_0_weight', 'fan_0_high_0_weight',\n",
    "                  'fan_0_low_1_weight', 'fan_0_med_1_weight', 'fan_0_high_1_weight']"
   ]
  },
  {
   "cell_type": "code",
   "execution_count": null,
   "id": "746ddabb-696f-40b4-ac98-39d2cf52402a",
   "metadata": {},
   "outputs": [],
   "source": [
    "import os\n",
    "import ibm_boto3\n",
    "from ibm_botocore.client import Config, ClientError\n",
    "\n",
    "# Constants for IBM COS values\n",
    "COS_ENDPOINT = os.getenv('COS_ENDPOINT') # Current list avaiable at https://control.cloud-object-storage.cloud.ibm.com/v2/endpoints\n",
    "COS_API_KEY_ID = os.getenv('COS_API_KEY_ID') # eg \"W00YixxxxxxxxxxMB-odB-2ySfTrFBIQQWanc--P3byk\"\n",
    "COS_INSTANCE_CRN = os.getenv('COS_INSTANCE_CRN') # eg \"crn:v1:bluemix:public:cloud-object-storage:global:a/3bf0d9003xxxxxxxxxx1c3e97696b71c:d6f04d83-6c4f-4a62-a165-696756d63903::\"\n",
    "COS_AUTH_ENDPOINT = os.getenv('COS_AUTH_ENDPOINT') #eg \"https://iam.cloud.ibm.com/identity/token\"\n",
    "REGION = os.getenv('REGION')\n",
    "# Create resource\n",
    "cos = ibm_boto3.resource(\"s3\",\n",
    "    ibm_api_key_id=COS_API_KEY_ID,\n",
    "    ibm_service_instance_id=COS_INSTANCE_CRN,\n",
    "    ibm_auth_endpoint=COS_AUTH_ENDPOINT,\n",
    "    config=Config(signature_version=\"oauth\"),\n",
    "    endpoint_url=COS_ENDPOINT,\n",
    "    region_name=REGION\n",
    ")\n",
    "\n",
    "total_list = normal_op_list + anomaly_op_list\n",
    "if not os.path.exists('./' + dataset_path):\n",
    "    for folder in total_list:\n",
    "        os.makedirs(dataset_path + '/' + folder)\n",
    "\n",
    "\n",
    "bucket = 'tead-bucket'\n",
    "\n",
    "files = cos.Bucket(bucket).objects.all()\n",
    "i = 0\n",
    "displayerrors = 0\n",
    "for file in files:\n",
    "    #ceiling-fan/fan_0_low_0_weight/0171.csv\n",
    "    sample = file.key.split(\"/\")\n",
    "    if len(sample) == 3:\n",
    "        if sample[2].endswith('.csv'):\n",
    "            if sample[1] in total_list:\n",
    "                local_file_name = file.key.replace(\"ceiling-fan\", \"ceiling-fan-dataset\")\n",
    "                try:\n",
    "                    cos.meta.client.download_file(bucket, file.key, local_file_name)\n",
    "                    i = i + 1\n",
    "                    if i % 50 == 0:\n",
    "                        print(\"Downloaded: \", format(i))\n",
    "                except Exception as e:\n",
    "                    if displayerrors:\n",
    "                        print(Exception, e)"
   ]
  },
  {
   "cell_type": "code",
   "execution_count": null,
   "id": "ad38333b-25fa-4cbb-bf01-6f03a11a80e7",
   "metadata": {},
   "outputs": [],
   "source": [
    "from os import listdir\n",
    "from os.path import join\n",
    "\n",
    "# Create list of filenames\n",
    "def createFilenameList(op_list):\n",
    "    \n",
    "    # Extract paths and filenames in each directory\n",
    "    op_filenames = []\n",
    "    num_samples = 0\n",
    "    for index, target in enumerate(op_list):\n",
    "        samples_in_dir = listdir(join(dataset_path, target))\n",
    "        samples_in_dir = [join(dataset_path, target, sample) for sample in samples_in_dir]\n",
    "        op_filenames.append(samples_in_dir)\n",
    "    \n",
    "    # Flatten list\n",
    "    return [item for sublist in op_filenames for item in sublist]"
   ]
  },
  {
   "cell_type": "code",
   "execution_count": null,
   "id": "27ffd0f3-914c-4c2a-a44f-11c3403027bd",
   "metadata": {},
   "outputs": [],
   "source": [
    "# Create normal and anomaly filename lists\n",
    "normal_op_filenames = createFilenameList(normal_op_list)\n",
    "anomaly_op_filenames = createFilenameList(anomaly_op_list)\n",
    "print('Number of normal samples:', len(normal_op_filenames))\n",
    "print('Number of anomaly samples:', len(anomaly_op_filenames))"
   ]
  },
  {
   "cell_type": "code",
   "execution_count": null,
   "id": "c16559b0-5741-4a80-abc1-c2e79dac4970",
   "metadata": {},
   "outputs": [],
   "source": [
    "# Function to plot normal vs anomaly samples side-by-side\n",
    "def plotTimeSeriesSample(normal_sample, anomaly_sample):\n",
    "    fig, axs = plt.subplots(2, 1, figsize=(6, 6))\n",
    "    fig.tight_layout(pad=3.0)\n",
    "    axs[0].plot(normal_sample.T[0], label='x')\n",
    "    axs[0].plot(normal_sample.T[1], label='y')\n",
    "    axs[0].plot(normal_sample.T[2], label='z')\n",
    "    axs[0].set_title('Normal sample')\n",
    "    axs[0].set_xlabel('sample')\n",
    "    axs[0].set_ylabel('G-force')\n",
    "    axs[0].legend()\n",
    "    axs[1].plot(anomaly_sample.T[0], label='x')\n",
    "    axs[1].plot(anomaly_sample.T[1], label='y')\n",
    "    axs[1].plot(anomaly_sample.T[2], label='z')\n",
    "    axs[1].set_title('Anomaly sample')\n",
    "    axs[1].set_xlabel('sample')\n",
    "    axs[1].set_ylabel('G-force')\n",
    "    axs[1].legend()"
   ]
  },
  {
   "cell_type": "code",
   "execution_count": null,
   "id": "c37955ff-7ea3-4c30-9fe4-721d638f2620",
   "metadata": {},
   "outputs": [],
   "source": [
    "# Function to plot 3D scatterplot of normal and anomaly smaples\n",
    "def plotScatterSamples(normal_samples, anomaly_samples, num_samples, title=''):\n",
    "    fig = plt.figure()\n",
    "    ax = plt.axes(projection='3d')\n",
    "    for i in range(num_samples):\n",
    "        ax.scatter(normal_samples[i].T[0], normal_samples[i].T[1], normal_samples[i].T[2], c='b')\n",
    "        ax.scatter(anomaly_samples[i].T[0], anomaly_samples[i].T[1], anomaly_samples[i].T[2], c='r')\n",
    "    ax.set_xlabel('x')\n",
    "    ax.set_ylabel('y')\n",
    "    ax.set_zlabel('z')\n",
    "    ax.set_title(title)"
   ]
  },
  {
   "cell_type": "code",
   "execution_count": null,
   "id": "d1ea1874-8cbc-463a-a1f8-d6585e15f1dd",
   "metadata": {},
   "outputs": [],
   "source": [
    "# Examine a normal sample vs anomalous sample\n",
    "normal_sample = np.genfromtxt(normal_op_filenames[0], delimiter=',')\n",
    "anomaly_sample = np.genfromtxt(anomaly_op_filenames[0], delimiter=',')\n",
    "\n",
    "# Plot time series of accelerometer data\n",
    "plotTimeSeriesSample(normal_sample, anomaly_sample)"
   ]
  },
  {
   "cell_type": "code",
   "execution_count": null,
   "id": "3e74999d-8598-4116-b04e-d8d5d0472a40",
   "metadata": {},
   "outputs": [],
   "source": [
    "!ipython --version"
   ]
  },
  {
   "cell_type": "code",
   "execution_count": null,
   "id": "2480848c-42a5-49ae-bddc-850297de1177",
   "metadata": {},
   "outputs": [],
   "source": [
    "!pip uninstall ipywidgets -y"
   ]
  },
  {
   "cell_type": "code",
   "execution_count": null,
   "id": "ac71ffcd-db7d-4d1e-8f98-8614e113ad08",
   "metadata": {},
   "outputs": [],
   "source": [
    "!pip install --upgrade ipython"
   ]
  },
  {
   "cell_type": "code",
   "execution_count": null,
   "id": "47074cf7-bbf0-493e-bb14-489f2e729196",
   "metadata": {},
   "outputs": [],
   "source": [
    "jupyterlab --version"
   ]
  },
  {
   "cell_type": "code",
   "execution_count": null,
   "id": "78e81a78-c609-4858-82b1-1c7e22561eb2",
   "metadata": {},
   "outputs": [],
   "source": [
    "!pip install ipywidgets==7.7.2"
   ]
  },
  {
   "cell_type": "code",
   "execution_count": null,
   "id": "5de7bbd8-44f0-43f7-8207-8102455c5586",
   "metadata": {},
   "outputs": [],
   "source": []
  }
 ],
 "metadata": {
  "kernelspec": {
   "display_name": "Python 3.9",
   "language": "python",
   "name": "python3"
  },
  "language_info": {
   "codemirror_mode": {
    "name": "ipython",
    "version": 3
   },
   "file_extension": ".py",
   "mimetype": "text/x-python",
   "name": "python",
   "nbconvert_exporter": "python",
   "pygments_lexer": "ipython3",
   "version": "3.9.16"
  }
 },
 "nbformat": 4,
 "nbformat_minor": 5
}
